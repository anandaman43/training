{
 "cells": [
  {
   "cell_type": "code",
   "execution_count": 75,
   "metadata": {},
   "outputs": [
    {
     "name": "stdout",
     "output_type": "stream",
     "text": [
      "Extracting MNIST_data/train-images-idx3-ubyte.gz\n",
      "Extracting MNIST_data/train-labels-idx1-ubyte.gz\n",
      "Extracting MNIST_data/t10k-images-idx3-ubyte.gz\n",
      "Extracting MNIST_data/t10k-labels-idx1-ubyte.gz\n"
     ]
    }
   ],
   "source": [
    "import numpy as np\n",
    "from tensorflow.examples.tutorials.mnist import input_data\n",
    "mnist = input_data.read_data_sets(\"MNIST_data/\", one_hot=True)\n",
    "x_train=mnist.train.images[0:50].reshape(50,28,28,1)\n",
    "y_train=(mnist.train.labels[0:50]).T"
   ]
  },
  {
   "cell_type": "markdown",
   "metadata": {},
   "source": [
    "### Batch normalization"
   ]
  },
  {
   "cell_type": "code",
   "execution_count": 101,
   "metadata": {},
   "outputs": [],
   "source": [
    "def batch_forward(Z,gamma,beta,epsilon=0.001):\n",
    "    m=Z.shape[1]\n",
    "    Z_mu=np.mean(Z,axis=1,keepdims=True)\n",
    "    var=1.0/m*np.sum((Z-Z_mu)**2,axis=1,keepdims=True)\n",
    "    inv_var=1.0/np.sqrt(var+epsilon)\n",
    "    Z_hat=(Z-Z_mu)*np.sqrt(1.0/inv_var+0.001)\n",
    "    Z_telda=gamma*Z_hat+beta\n",
    "    cache2=Z_mu, inv_var, Z_hat, gamma \n",
    "    return Z_telda,cache2"
   ]
  },
  {
   "cell_type": "markdown",
   "metadata": {},
   "source": [
    "### CNN_forward"
   ]
  },
  {
   "cell_type": "code",
   "execution_count": 102,
   "metadata": {},
   "outputs": [],
   "source": [
    "def cnn_forward(A_prev,W,b,f,f_num,pad,s,activation=\"relu\"):\n",
    "    A_prev_pad=np.pad(A_prev,((0,0),(pad,pad),(pad,pad),(0,0)),\"constant\",constant_values=0)\n",
    "    (m,n_h,n_w,n_c)=A_prev_pad.shape\n",
    "    n_h=int((n_h-f-2*pad+1)/s)+1\n",
    "    n_w=int((n_w-f-2*pad+1)/s)+1\n",
    "    n_c=f_num\n",
    "    Z=np.zeros((m,n_h,n_w,n_c))\n",
    "    for i in range(m):\n",
    "        for h in range(n_h):\n",
    "            for w in range(n_w):\n",
    "                for c in range(n_c):\n",
    "                    Z[i,h,w,c]=np.sum(A_prev_pad[i,h*s:h*s+f,w*s:w*s+f,:]*W[:,:,:,c])+b[:,:,:,c]\n",
    "    if(activation==\"relu\"):\n",
    "        A=np.maximum(0,Z)\n",
    "    if(activation==\"sigmoid\"):\n",
    "        A=1.0/(1.0+np.exp(-Z))\n",
    "    cache=(A_prev,W,b,Z,A,s,f,pad,activation)\n",
    "    return A, cache"
   ]
  },
  {
   "cell_type": "markdown",
   "metadata": {},
   "source": [
    "### Pooling_forward"
   ]
  },
  {
   "cell_type": "code",
   "execution_count": 103,
   "metadata": {},
   "outputs": [],
   "source": [
    "def pooling_forward(A_prev,f,s,pooling=\"max\"):\n",
    "    (m,n_h,n_w,n_c)=A_prev.shape\n",
    "    n_h=int((n_h-f+1)/s)+1\n",
    "    n_w=int((n_w-f+1)/s)+1\n",
    "    A=np.zeros((m,n_h,n_w,n_c))\n",
    "    for i in range(m):\n",
    "        for h in range(n_h):\n",
    "            for w in range(n_w):\n",
    "                for c in range(n_c):\n",
    "                    if(pooling==\"max\"):\n",
    "                        A[i,h,w,c]=np.max(A_prev[i,h*s:h*s+f,w*s:w*s+f,c])\n",
    "                    if(pooling==\"average\"):\n",
    "                        A[i,h,w,c]=np.mean(A_prev[i,h*s:h*s+f,w*s:w*s+f,c])\n",
    "    cache=(A_prev,f,s,A,pooling)    \n",
    "    return A,cache"
   ]
  },
  {
   "cell_type": "markdown",
   "metadata": {},
   "source": [
    "### Reshaping_layer"
   ]
  },
  {
   "cell_type": "code",
   "execution_count": 104,
   "metadata": {},
   "outputs": [],
   "source": [
    "def reshape(A):\n",
    "    (m,n_h,n_w,n_c)=A.shape\n",
    "    return A.reshape(m,n_h*n_w*n_c).T"
   ]
  },
  {
   "cell_type": "markdown",
   "metadata": {},
   "source": [
    "### FC_forward"
   ]
  },
  {
   "cell_type": "code",
   "execution_count": 105,
   "metadata": {},
   "outputs": [],
   "source": [
    "def fc_forward(A_prev,W,b,gamma,beta,n_h,activation=\"relu\",initialize=\"yes\"):\n",
    "    (n_x,m)=A_prev.shape\n",
    "    Z=np.dot(W,A_prev)+b\n",
    "    Z_telda,cache2=batch_forward(Z,gamma,beta)\n",
    "    if(activation==\"relu\"):\n",
    "        A=np.maximum(0,Z_telda)\n",
    "    if(activation==\"sigmoid\"):\n",
    "        A=1.0/(1.0+np.exp(-Z_telda))\n",
    "    if(activation==\"softmax\"):\n",
    "        exp_Z=np.exp(Z_telda-np.max(Z_telda))\n",
    "        A=(exp_Z)/exp_Z.sum()\n",
    "    cache=(A_prev,W,b,A,Z_telda)\n",
    "    return A, cache, cache2"
   ]
  },
  {
   "cell_type": "markdown",
   "metadata": {},
   "source": [
    "### FC_backward"
   ]
  },
  {
   "cell_type": "code",
   "execution_count": 106,
   "metadata": {},
   "outputs": [],
   "source": [
    "def fc_backward(dA,cache,cache2,activation=\"relu\"):\n",
    "    A_prev,W,b,Z_telda,A=cache\n",
    "    Z_mu, inv_var, Z_hat, gamma = cache2\n",
    "    m=A_prev.shape[0]\n",
    "    if(activation==\"relu\"):\n",
    "        dZ_telda = np.array(dA, copy=True) \n",
    "        dZ_telda[Z_telda <= 0] = 0\n",
    "    if(activation==\"sigmoid\"):\n",
    "        gradient=(A*(1-A))\n",
    "        dZ_telda=dA*gradient\n",
    "    if(activation==\"softmax\"):\n",
    "        dZ_telda=dA \n",
    "        \n",
    "    dZhat = dZ_telda * gamma\n",
    "    dZ=(1.0 / m) * inv_var * (m*dZhat - np.sum(dZhat, axis=1,keepdims=True) - Z_hat*np.sum(dZhat*Z_hat, axis=1,keepdims=True))\n",
    "    dA_prev=np.dot(W.T,dZ)\n",
    "    dW=1.0/m*(np.dot(dZ,A_prev.T))\n",
    "    db=1.0/m*(np.sum(dZ,axis=1,keepdims=True))\n",
    "    dgamma=1.0/m*np.sum(Z_hat*dZ_telda, axis=1,keepdims=True)\n",
    "    dbeta=1.0/m*np.sum(dZ_telda, axis=1,keepdims=True)\n",
    "    return dA_prev, dW, db ,dgamma, dbeta"
   ]
  },
  {
   "cell_type": "markdown",
   "metadata": {},
   "source": [
    "### Pooling_backward"
   ]
  },
  {
   "cell_type": "code",
   "execution_count": 107,
   "metadata": {},
   "outputs": [],
   "source": [
    "def pooling_backward(dA,cache):\n",
    "    A_prev,f,s,A,pooling=cache\n",
    "    (m,n_h,n_w,n_c)=A_prev.shape\n",
    "    dA_prev=np.zeros((m,n_h,n_w,n_c))\n",
    "    (m,n_h,n_w,n_c)=dA.shape\n",
    "    for i in range(m):\n",
    "        for h in range(n_h):\n",
    "            for w in range(n_w):\n",
    "                for c in range(n_c):\n",
    "                    if(pooling==\"max\"):\n",
    "                        mask=(A_prev[i,h*s:h*s+f,w*s:w*s+f,c]==np.max(A_prev[i,h*s:h*s+f,w*s:w*s+f,c]))\n",
    "                        dA_prev[i,h*s:h*s+f,w*s:w*s+f,c]+=mask*dA[i,h,w,c]\n",
    "                    if(pooling==\"average\"):\n",
    "                        dA_prev[i,h*s:h*s+f,w*s:w*s+f,c]+=1.0/(f*f)*dA[i,h,w,c]\n",
    "    return dA_prev"
   ]
  },
  {
   "cell_type": "markdown",
   "metadata": {},
   "source": [
    "### cnn_backward"
   ]
  },
  {
   "cell_type": "code",
   "execution_count": 108,
   "metadata": {},
   "outputs": [],
   "source": [
    "def cnn_backward(dA,cache):\n",
    "    A_prev,W,b,Z,A,s,f,pad,activation=cache\n",
    "    A_prev_pad=np.pad(A_prev,((0,0),(pad,pad),(pad,pad),(0,0)),\"constant\",constant_values=0)\n",
    "    dA_prev=np.zeros(A_prev_pad.shape)\n",
    "    dW=np.zeros(W.shape)\n",
    "    db=np.zeros(b.shape)\n",
    "    if (activation==\"relu\"):\n",
    "        gradient=Z[Z<=0]=0\n",
    "    if(activation==\"sigmoid\"):\n",
    "        gradient=A*(1-A)\n",
    "    dZ=dA*gradient\n",
    "    m,n_h,n_w,n_c=dZ.shape\n",
    "    for i in range(m):\n",
    "        for h in range(n_h):\n",
    "            for w in range(n_w):\n",
    "                for c in range(n_c):\n",
    "                    dA_prev[i,h*s:h*s+f,w*s:w*s+f,:]+=W[:,:,:,c]*dZ[i,h,w,c]\n",
    "                    dW[:,:,:,c]+=A_prev_pad[i,h*s:h*s+f,w*s:w*s+f,:]*dZ[i,h,w,c]\n",
    "                    db[:,:,:,c]+=dZ[i,h,w,c]\n",
    "    return dA_prev, dW,db"
   ]
  },
  {
   "cell_type": "code",
   "execution_count": 109,
   "metadata": {},
   "outputs": [],
   "source": [
    "def compute_cost(AL, Y):\n",
    "    m = Y.shape[1]\n",
    "    cost = 1.0/m*(np.sum(-np.log(AL+0.001)*y_train,keepdims=True))[0][0]\n",
    "    return cost"
   ]
  },
  {
   "cell_type": "code",
   "execution_count": 110,
   "metadata": {},
   "outputs": [
    {
     "name": "stdout",
     "output_type": "stream",
     "text": [
      "('cost', 5.8708197148209615)\n"
     ]
    }
   ],
   "source": [
    "A_0=x_train\n",
    "W_1=np.random.randn(3,3,1,5)*0.01\n",
    "b_1=np.random.randn(1,1,1,5)*0.01\n",
    "W_3=np.random.randn(120,245)*0.01\n",
    "b_3=np.random.randn(120,1)*0.01\n",
    "W_4=np.random.randn(10,120)*0.01\n",
    "b_4=np.random.randn(10,1)*0.01\n",
    "A_1,cache_1 = cnn_forward(A_0,W_1,b_1,f=3,f_num=5,pad=2,s=2,activation=\"relu\")\n",
    "A_2, cache_2 = pooling_forward(A_1,f=2,s=2, pooling = \"max\")\n",
    "A_2= reshape(A_2)\n",
    "gamma_3=np.random.randn(120,1)\n",
    "beta_3=np.random.randn(120,1)\n",
    "gamma_4=np.random.randn(10,1)\n",
    "beta_4=np.random.randn(10,1)\n",
    "A_3,cache_3,cache2_3= fc_forward(A_2,W_3,b_3,gamma_3,beta_3,n_h=120, activation=\"relu\")\n",
    "A_4,cache_4, cache2_4= fc_forward(A_3,W_4,b_4,gamma_4,beta_4,n_h=10, activation=\"softmax\")\n",
    "costs=[]\n",
    "temp_cost=compute_cost(A_4,y_train)\n",
    "print(\"cost\",temp_cost)\n",
    "costs.append(temp_cost)\n",
    "dZ_telda_4=A_4-y_train\n",
    "dA_3, dW_4, db_4, dgamma_4, dbeta_4=fc_backward(dZ_telda_4,cache_4,cache2_4,activation=\"softmax\")\n",
    "dA_2, dW_3, db_3, dgamma_3, dbeta_3=fc_backward(dA_3,cache_3,cache2_3,activation=\"relu\")\n",
    "dA_2=dA_2.T\n",
    "dA_2=dA_2.reshape(50,7,7,5)\n",
    "dA_1 =pooling_backward(dA_2,cache_2)\n",
    "dA_0,dW_1, db_1=cnn_backward(dA_1,cache_1)"
   ]
  },
  {
   "cell_type": "code",
   "execution_count": 111,
   "metadata": {},
   "outputs": [
    {
     "name": "stdout",
     "output_type": "stream",
     "text": [
      "1 epoch completed and cost is 5.8708194952\n",
      "2 epoch completed and cost is 5.87081927558\n",
      "3 epoch completed and cost is 5.87081905596\n",
      "4 epoch completed and cost is 5.87081883634\n",
      "5 epoch completed and cost is 5.87081861671\n",
      "6 epoch completed and cost is 5.87081839709\n",
      "7 epoch completed and cost is 5.87081817746\n",
      "8 epoch completed and cost is 5.87081795782\n",
      "9 epoch completed and cost is 5.87081773818\n",
      "10 epoch completed and cost is 5.87081751853\n"
     ]
    }
   ],
   "source": [
    "learning_rate=0.0001\n",
    "for i in range(10):\n",
    "    W_1=W_1-learning_rate*dW_1\n",
    "    W_3=W_3-learning_rate*dW_3\n",
    "    W_4=W_4-learning_rate*dW_4\n",
    "    b_1=b_1-learning_rate*db_1\n",
    "    b_3=b_3-learning_rate*db_3\n",
    "    b_4=b_4-learning_rate*db_4\n",
    "    gamma_3=gamma_3-learning_rate*dgamma_3\n",
    "    gamma_4=gamma_4-learning_rate*dgamma_4\n",
    "    beta_3=beta_3-learning_rate*dbeta_3\n",
    "    beta_4=beta_4-learning_rate*dbeta_4\n",
    "    A_1,cache_1 = cnn_forward(A_0,W_1,b_1,f=3,f_num=5,pad=2,s=2,activation=\"relu\")\n",
    "    A_2, cache_2 = pooling_forward(A_1,f=2,s=2, pooling = \"max\")\n",
    "    A_2= reshape(A_2)\n",
    "    A_3,cache_3,cache2_3= fc_forward(A_2,W_3,b_3,gamma_3,beta_3,n_h=120, activation=\"relu\")\n",
    "    A_4,cache_4, cache2_4= fc_forward(A_3,W_4,b_4,gamma_4,beta_4,n_h=10, activation=\"softmax\")\n",
    "    cost=compute_cost(A_4, y_train)\n",
    "    costs.append(cost)\n",
    "    change=temp_cost-cost\n",
    "    temp_cost=cost\n",
    "    print(\"{} epoch completed and cost is {}\".format(i+1,cost))\n",
    "    dZ_telda_4=A_4-y_train\n",
    "    dA_3, dW_4, db_4, dgamma_4, dbeta_4=fc_backward(dZ_telda_4,cache_4,cache2_4,activation=\"softmax\")\n",
    "    dA_2, dW_3, db_3, dgamma_3, dbeta_3=fc_backward(dA_3,cache_3,cache2_3,activation=\"relu\")\n",
    "    dA_2=dA_2.T\n",
    "    dA_2=dA_2.reshape(50,7,7,5)\n",
    "    dA_1 =pooling_backward(dA_2,cache_2)\n",
    "    dA_0,dW_1, db_1=cnn_backward(dA_1,cache_1)"
   ]
  },
  {
   "cell_type": "code",
   "execution_count": 112,
   "metadata": {},
   "outputs": [
    {
     "data": {
      "image/png": "[encoded data removed]",
      "text/plain": [
       "<Figure size 432x288 with 1 Axes>"
      ]
     },
     "metadata": {},
     "output_type": "display_data"
    }
   ],
   "source": [
    "import matplotlib.pyplot as plt\n",
    "plt.plot(costs)\n",
    "plt.show()"
   ]
  },
  {
   "cell_type": "code",
   "execution_count": null,
   "metadata": {},
   "outputs": [],
   "source": []
  }
 ],
 "metadata": {
  "kernelspec": {
   "display_name": "Python 2",
   "language": "python",
   "name": "python2"
  },
  "language_info": {
   "codemirror_mode": {
    "name": "ipython",
    "version": 2
   },
   "file_extension": ".py",
   "mimetype": "text/x-python",
   "name": "python",
   "nbconvert_exporter": "python",
   "pygments_lexer": "ipython2",
   "version": "2.7.14"
  }
 },
 "nbformat": 4,
 "nbformat_minor": 2
}
