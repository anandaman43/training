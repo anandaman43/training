{
 "cells": [
  {
   "cell_type": "code",
   "execution_count": 1,
   "metadata": {},
   "outputs": [],
   "source": [
    "import os"
   ]
  },
  {
   "cell_type": "code",
   "execution_count": 2,
   "metadata": {},
   "outputs": [
    {
     "name": "stderr",
     "output_type": "stream",
     "text": [
      "/home/aman/anaconda2/lib/python2.7/site-packages/h5py/__init__.py:36: FutureWarning: Conversion of the second argument of issubdtype from `float` to `np.floating` is deprecated. In future, it will be treated as `np.float64 == np.dtype(float).type`.\n",
      "  from ._conv import register_converters as _register_converters\n"
     ]
    },
    {
     "name": "stdout",
     "output_type": "stream",
     "text": [
      "WARNING:tensorflow:From <ipython-input-2-d25c7539bf2d>:4: read_data_sets (from tensorflow.contrib.learn.python.learn.datasets.mnist) is deprecated and will be removed in a future version.\n",
      "Instructions for updating:\n",
      "Please use alternatives such as official/mnist/dataset.py from tensorflow/models.\n",
      "WARNING:tensorflow:From /home/aman/anaconda2/lib/python2.7/site-packages/tensorflow/contrib/learn/python/learn/datasets/mnist.py:260: maybe_download (from tensorflow.contrib.learn.python.learn.datasets.base) is deprecated and will be removed in a future version.\n",
      "Instructions for updating:\n",
      "Please write your own downloading logic.\n",
      "WARNING:tensorflow:From /home/aman/anaconda2/lib/python2.7/site-packages/tensorflow/contrib/learn/python/learn/datasets/mnist.py:262: extract_images (from tensorflow.contrib.learn.python.learn.datasets.mnist) is deprecated and will be removed in a future version.\n",
      "Instructions for updating:\n",
      "Please use tf.data to implement this functionality.\n",
      "Extracting MNIST_data/train-images-idx3-ubyte.gz\n",
      "WARNING:tensorflow:From /home/aman/anaconda2/lib/python2.7/site-packages/tensorflow/contrib/learn/python/learn/datasets/mnist.py:267: extract_labels (from tensorflow.contrib.learn.python.learn.datasets.mnist) is deprecated and will be removed in a future version.\n",
      "Instructions for updating:\n",
      "Please use tf.data to implement this functionality.\n",
      "Extracting MNIST_data/train-labels-idx1-ubyte.gz\n",
      "WARNING:tensorflow:From /home/aman/anaconda2/lib/python2.7/site-packages/tensorflow/contrib/learn/python/learn/datasets/mnist.py:110: dense_to_one_hot (from tensorflow.contrib.learn.python.learn.datasets.mnist) is deprecated and will be removed in a future version.\n",
      "Instructions for updating:\n",
      "Please use tf.one_hot on tensors.\n",
      "Extracting MNIST_data/t10k-images-idx3-ubyte.gz\n",
      "Extracting MNIST_data/t10k-labels-idx1-ubyte.gz\n",
      "WARNING:tensorflow:From /home/aman/anaconda2/lib/python2.7/site-packages/tensorflow/contrib/learn/python/learn/datasets/mnist.py:290: __init__ (from tensorflow.contrib.learn.python.learn.datasets.mnist) is deprecated and will be removed in a future version.\n",
      "Instructions for updating:\n",
      "Please use alternatives such as official/mnist/dataset.py from tensorflow/models.\n"
     ]
    }
   ],
   "source": [
    "import tensorflow as tf\n",
    "import numpy as np\n",
    "from tensorflow.examples.tutorials.mnist import input_data\n",
    "mnist = input_data.read_data_sets(\"MNIST_data/\", one_hot=True)\n",
    "x_train=mnist.train.images[0:1000].reshape(1000,28,28,1)\n",
    "y_train=(mnist.train.labels[0:1000])"
   ]
  },
  {
   "cell_type": "code",
   "execution_count": 3,
   "metadata": {},
   "outputs": [],
   "source": [
    "x = tf.placeholder(tf.float32, [None, 28,28,1])\n",
    "x=tf.reshape(x,[-1,28,28,1])\n",
    "W_conv1=tf.Variable(tf.truncated_normal([5, 5,1,32],stddev=0.1))\n",
    "b_conv1=tf.Variable(tf.truncated_normal([1,1,1,32],stddev=0.1))\n",
    "\n",
    "z_conv_1=tf.nn.conv2d(x_train, W_conv1, strides=[1, 1, 1, 1], padding='SAME')+b_conv1\n",
    "h_conv_1 = tf.nn.relu(z_conv_1)\n",
    "h_pool_1=tf.nn.max_pool(h_conv_1, ksize=[1, 2, 2, 1],\n",
    "                        strides=[1, 2, 2, 1], padding='SAME')\n",
    "fc_0=tf.reshape(h_pool_1,[-1,14*14*32])\n",
    "\n",
    "W_fc1 = tf.Variable(tf.truncated_normal([14*14*32,1024],stddev=0.1))\n",
    "b_fc1 = tf.Variable(tf.truncated_normal([1,1024],stddev=0.1))\n",
    "\n",
    "h_fc1 = tf.nn.relu(tf.matmul(fc_0, W_fc1) + b_fc1)\n",
    "\n",
    "W_fc2 = tf.Variable(tf.truncated_normal([1024, 10],stddev=0.1))\n",
    "b_fc2 = tf.Variable(tf.truncated_normal([1,10],stddev=0.1))\n",
    "\n",
    "y_pred = tf.nn.softmax(tf.matmul(h_fc1, W_fc2) + b_fc2)\n",
    "\n",
    "y = tf.placeholder(tf.float32, [None, 10])\n",
    "\n",
    "cross_entropy = tf.reduce_mean(-tf.reduce_sum(y * tf.log(y_pred), reduction_indices=[1]))\n",
    "train_step = tf.train.AdamOptimizer(1e-4).minimize(cross_entropy)\n",
    "correct_prediction = tf.equal(tf.argmax(y_pred,1), tf.argmax(y_train,1))\n",
    "accuracy = tf.reduce_mean(tf.cast(correct_prediction, tf.float32))\n",
    "\n",
    "saver = tf.train.Saver()\n",
    "\n",
    "sess=tf.Session()\n",
    "sess.run(tf.global_variables_initializer())\n",
    "writer=tf.summary.FileWriter(\"./graphs\", sess.graph)"
   ]
  },
  {
   "cell_type": "code",
   "execution_count": 4,
   "metadata": {},
   "outputs": [
    {
     "name": "stdout",
     "output_type": "stream",
     "text": [
      "INFO:tensorflow:Restoring parameters from /home/aman/Tensorflow/checkpoints/model.ckpt\n",
      "Model restored.\n"
     ]
    }
   ],
   "source": [
    "if os.path.exists(\"/home/aman/Tensorflow/checkpoints/model.ckpt.meta\"):\n",
    "    try:\n",
    "        saver.restore(sess, \"/home/aman/Tensorflow/checkpoints/model.ckpt\")\n",
    "        print(\"Model restored.\")\n",
    "    except:\n",
    "        print(\"Model has already been loaded once\")"
   ]
  },
  {
   "cell_type": "code",
   "execution_count": 5,
   "metadata": {},
   "outputs": [
    {
     "name": "stdout",
     "output_type": "stream",
     "text": [
      "Cross-entropy error is 0.354853749275 and training accuracy is 0.917999982834\n",
      "Cross-entropy error is 0.344523340464 and training accuracy is 0.919000029564\n",
      "Cross-entropy error is 0.334428429604 and training accuracy is 0.92199999094\n",
      "Cross-entropy error is 0.32481738925 and training accuracy is 0.921000003815\n",
      "Cross-entropy error is 0.31581890583 and training accuracy is 0.924000024796\n",
      "Cross-entropy error is 0.307426959276 and training accuracy is 0.925999999046\n",
      "Cross-entropy error is 0.299539238214 and training accuracy is 0.926999986172\n",
      "Cross-entropy error is 0.292089730501 and training accuracy is 0.927999973297\n",
      "Cross-entropy error is 0.285036623478 and training accuracy is 0.927999973297\n",
      "Cross-entropy error is 0.278291255236 and training accuracy is 0.927999973297\n",
      "Model saved in path: /home/aman/Tensorflow/checkpoints/model.ckpt\n"
     ]
    }
   ],
   "source": [
    "for i in range(10):\n",
    "    print(\"Cross-entropy error is {} and training accuracy is {}\".format(sess.run(cross_entropy,feed_dict={x:x_train, y: y_train}),sess.run(accuracy,feed_dict={x:x_train, y: y_train})))\n",
    "    sess.run(train_step,feed_dict={x: x_train, y: y_train})\n",
    "    \n",
    "save_path = saver.save(sess, \"/home/aman/Tensorflow/checkpoints/model.ckpt\")\n",
    "print(\"Model saved in path: %s\" % save_path)"
   ]
  },
  {
   "cell_type": "code",
   "execution_count": null,
   "metadata": {},
   "outputs": [],
   "source": [
    "sess.close()\n",
    "writer.close()"
   ]
  },
  {
   "cell_type": "code",
   "execution_count": null,
   "metadata": {},
   "outputs": [],
   "source": []
  }
 ],
 "metadata": {
  "kernelspec": {
   "display_name": "Python 2",
   "language": "python",
   "name": "python2"
  },
  "language_info": {
   "codemirror_mode": {
    "name": "ipython",
    "version": 2
   },
   "file_extension": ".py",
   "mimetype": "text/x-python",
   "name": "python",
   "nbconvert_exporter": "python",
   "pygments_lexer": "ipython2",
   "version": "2.7.14"
  }
 },
 "nbformat": 4,
 "nbformat_minor": 2
}
