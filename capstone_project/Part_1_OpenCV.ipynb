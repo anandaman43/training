{
 "cells": [
  {
   "cell_type": "code",
   "execution_count": 3,
   "metadata": {},
   "outputs": [],
   "source": [
    "import warnings\n",
    "warnings.simplefilter(action='ignore', category=FutureWarning)\n",
    "import cv2\n",
    "import numpy as np\n",
    "import pandas as pd\n",
    "import os\n",
    "from tqdm import tqdm"
   ]
  },
  {
   "cell_type": "code",
   "execution_count": 4,
   "metadata": {},
   "outputs": [],
   "source": [
    "labels=pd.read_csv(\"/home/aman/dogs/labels.csv\")"
   ]
  },
  {
   "cell_type": "code",
   "execution_count": 5,
   "metadata": {},
   "outputs": [
    {
     "name": "stderr",
     "output_type": "stream",
     "text": [
      "100%|██████████| 10222/10222 [00:42<00:00, 241.78it/s]\n"
     ]
    }
   ],
   "source": [
    "path = \"/home/aman/dogs/train\"\n",
    "\n",
    "train_dir = os.listdir( path )\n",
    "\n",
    "img_size = 100\n",
    "\n",
    "X_train = []\n",
    "y_train = []\n",
    "\n",
    "X_test = []\n",
    "y_test = []\n",
    "\n",
    "i=0\n",
    "for img_name in tqdm(train_dir):\n",
    "    \n",
    "    image = cv2.imread(path+\"/\"+img_name,1)\n",
    "    \n",
    "    rows,cols,height = image.shape\n",
    "    \n",
    "    image = cv2.resize(image,(img_size,img_size))\n",
    "    \n",
    "    label = labels[labels[\"id\"]==img_name.split(\".\")[0]][\"breed\"].values[0]\n",
    "    \n",
    "    if (i < 9000): \n",
    "        X_train.append(image.reshape(1,img_size,img_size,3))\n",
    "        \n",
    "        y_train.append(label)\n",
    "        \n",
    "    if(i%2==0 and i < 9000):\n",
    "        M = cv2.getRotationMatrix2D((cols/2,rows/2),100*np.random.randn(),1)\n",
    "        \n",
    "        rot = cv2.warpAffine(image,M,(cols,rows))\n",
    "        \n",
    "        rot = cv2.resize(rot,(img_size,img_size))\n",
    "        \n",
    "        X_train.append(rot.reshape(1,img_size,img_size,3))\n",
    "        \n",
    "        y_train.append(label)\n",
    "        \n",
    "    if(i%2!=0 and i < 9000):\n",
    "        flp=cv2.flip(image,1)\n",
    "        \n",
    "        flp = cv2.resize(flp,(img_size,img_size))\n",
    "        \n",
    "        X_train.append(flp.reshape(1,img_size,img_size,3))\n",
    "        \n",
    "        y_train.append(label)\n",
    "        \n",
    "    i+=1\n",
    "    if(i>9000):\n",
    "        X_test.append(image.reshape(1,img_size,img_size,3))\n",
    "        y_test.append(label)\n",
    "        \n",
    "X_train = np.concatenate(X_train,axis=0)\n",
    "\n",
    "X_test = np.concatenate(X_test,axis=0)"
   ]
  },
  {
   "cell_type": "code",
   "execution_count": 6,
   "metadata": {},
   "outputs": [],
   "source": [
    "list_classes=list(np.unique(labels[\"breed\"].values))\n",
    "\n",
    "y_tr = np.zeros((18000,120))\n",
    "\n",
    "y_te = np.zeros((1222,120))\n",
    "\n",
    "for index,value in enumerate(y_train):\n",
    "    clas=list_classes.index(value)\n",
    "    y_tr[index][clas]=1\n",
    "    \n",
    "    \n",
    "for index,value in enumerate(y_test):\n",
    "    y_te[index][clas]=1"
   ]
  },
  {
   "cell_type": "code",
   "execution_count": 7,
   "metadata": {},
   "outputs": [],
   "source": [
    "np.save(\"X_train_\" + str(img_size)+\".npy\",X_train)\n",
    "np.save(\"X_test_\" + str(img_size)+\".npy\",X_test)\n",
    "np.save(\"y_train_\" + str(img_size)+\".npy\",y_tr)\n",
    "np.save(\"y_test_\" + str(img_size)+\".npy\",y_te)"
   ]
  }
 ],
 "metadata": {
  "kernelspec": {
   "display_name": "Python 2",
   "language": "python",
   "name": "python2"
  },
  "language_info": {
   "codemirror_mode": {
    "name": "ipython",
    "version": 2
   },
   "file_extension": ".py",
   "mimetype": "text/x-python",
   "name": "python",
   "nbconvert_exporter": "python",
   "pygments_lexer": "ipython2",
   "version": "2.7.14"
  }
 },
 "nbformat": 4,
 "nbformat_minor": 2
}
