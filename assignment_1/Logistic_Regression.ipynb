{
 "cells": [
  {
   "cell_type": "code",
   "execution_count": 1,
   "metadata": {},
   "outputs": [],
   "source": [
    "import numpy as np \n",
    "import matplotlib.pyplot as plt\n",
    "import pandas as pd"
   ]
  },
  {
   "cell_type": "code",
   "execution_count": 2,
   "metadata": {},
   "outputs": [],
   "source": [
    "def cost_function(x,y,w,b):\n",
    "    m=x.shape[1]\n",
    "    z=np.dot(w.T,x)+b\n",
    "    A=1.0/(1.0+np.exp(-z))\n",
    "    j=np.dot(np.log(A),-y.T)+np.dot(np.log(1.0-A),-(1.0-y).T)\n",
    "    return j[0]"
   ]
  },
  {
   "cell_type": "code",
   "execution_count": 3,
   "metadata": {},
   "outputs": [],
   "source": [
    "def logistic_regression(x,y,alpha):\n",
    "    cost_values=[]\n",
    "    w=np.random.rand(x.shape[0],1)\n",
    "    b=1\n",
    "    m=x.shape[1]\n",
    "    temp_cost=cost_function(x,y,w,b)\n",
    "    cost_values.append(temp_cost)\n",
    "    cost_change=1\n",
    "    while(cost_change>0.0001):\n",
    "        z=np.dot(w.T,x)+b\n",
    "        dz=z-y\n",
    "        dw=1.0/m*np.dot(x,dz.T)\n",
    "        db=1.0/m*np.sum(dz)\n",
    "        w=w-alpha*dw\n",
    "        b=b-alpha*db\n",
    "        cost=cost_function(x,y,w,b)\n",
    "        cost_values.append(cost)\n",
    "        cost_change=np.absolute(temp_cost-cost)\n",
    "        temp_cost=cost\n",
    "   \n",
    "    plt.plot(cost_values)\n",
    "    plt.ylabel('cost function')\n",
    "    plt.xlabel('no. of iterations')\n",
    "    plt.show()\n",
    "    print(\"weights:\",w)\n",
    "    print(\"bias:\", b)\n",
    "    return w,b"
   ]
  },
  {
   "cell_type": "code",
   "execution_count": 4,
   "metadata": {},
   "outputs": [],
   "source": [
    "def prediction(x,w,b):\n",
    "    m=x.shape[1]\n",
    "    z=np.dot(w.T,x)+b\n",
    "    A=1.0/(1.0+np.exp(-z))\n",
    "    A[A<0.53]=0\n",
    "    A[A>=0.53]=1\n",
    "    return A"
   ]
  },
  {
   "cell_type": "code",
   "execution_count": 5,
   "metadata": {},
   "outputs": [
    {
     "data": {
      "image/png": "[encoded data removed]",
      "text/plain": [
       "<Figure size 432x288 with 1 Axes>"
      ]
     },
     "metadata": {},
     "output_type": "display_data"
    },
    {
     "name": "stdout",
     "output_type": "stream",
     "text": [
      "('weights:', array([[-0.03199264],\n",
      "       [ 0.42202915],\n",
      "       [ 0.37636096],\n",
      "       [ 0.4077058 ],\n",
      "       [ 0.409798  ],\n",
      "       [ 0.82403079],\n",
      "       [ 0.29812424]]))\n",
      "('bias:', 0.38163916475927473)\n",
      "('train classification error:', 55.714285714285715)\n",
      "('test classification error:', 56.02094240837696)\n"
     ]
    }
   ],
   "source": [
    "def classification_error(x,y,w,b):\n",
    "    a=(prediction(x,w,b)==y)\n",
    "    b=float(np.count_nonzero(a == True)) \n",
    "    accuracy=(b/a.shape[1])*100  \n",
    "    return accuracy\n",
    "\n",
    "titanic=pd.read_csv(\"train.csv\")\n",
    "y=titanic.Survived.values.reshape(891,1)\n",
    "y_train=y[0:700]\n",
    "y_test=y[700:]\n",
    "y_train=y_train.T\n",
    "y_test=y_test.T\n",
    "\n",
    "x=titanic.drop([\"PassengerId\",\"Name\",\"Ticket\",\"Cabin\",\"Embarked\"],axis=1)\n",
    "x[\"Age\"].fillna(x[\"Age\"].mean(),inplace=True)\n",
    "x=(pd.concat([x,pd.get_dummies(x[\"Sex\"])],axis=1)).drop([\"Survived\",\"Sex\"],axis=1)\n",
    "x_range=x.max()-x.min()\n",
    "x=(x-x.mean())/x_range\n",
    "\n",
    "x_train=x[0:700]\n",
    "x_test=x[700:]\n",
    "x_train=(x_train.T).values\n",
    "x_test=(x_test.T).values\n",
    "\n",
    "predicted_w,predicted_b=logistic_regression(x_train,y_train,alpha=0.0001)\n",
    "\n",
    "\n",
    "print(\"train classification error:\",classification_error(x_train,y_train,predicted_w,predicted_b))\n",
    "print(\"test classification error:\",classification_error(x_test,y_test,predicted_w,predicted_b))"
   ]
  }
 ],
 "metadata": {
  "kernelspec": {
   "display_name": "Python 2",
   "language": "python",
   "name": "python2"
  },
  "language_info": {
   "codemirror_mode": {
    "name": "ipython",
    "version": 2
   },
   "file_extension": ".py",
   "mimetype": "text/x-python",
   "name": "python",
   "nbconvert_exporter": "python",
   "pygments_lexer": "ipython2",
   "version": "2.7.14"
  }
 },
 "nbformat": 4,
 "nbformat_minor": 2
}
