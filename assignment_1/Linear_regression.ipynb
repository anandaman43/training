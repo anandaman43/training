{
 "cells": [
  {
   "cell_type": "code",
   "execution_count": 2,
   "metadata": {},
   "outputs": [],
   "source": [
    "import numpy as np  \n",
    "import matplotlib.pyplot as plt\n",
    "import pandas as pd"
   ]
  },
  {
   "cell_type": "code",
   "execution_count": 3,
   "metadata": {},
   "outputs": [],
   "source": [
    "\n",
    "def cost_function(x,y,w,b):           #This function calculates the cost value \n",
    "    m=x.shape[1]\n",
    "    z=np.dot(w.T,x)+b\n",
    "    dz=z-y\n",
    "    cost=1.0/m*np.sum(np.power(dz,2),axis=1)\n",
    "    return cost"
   ]
  },
  {
   "cell_type": "code",
   "execution_count": 4,
   "metadata": {},
   "outputs": [],
   "source": [
    "def linear_regression(x,y,alpha):\n",
    "    cost_values=[]                     #cost_values will store cost values at each iteration\n",
    "    w=np.random.rand(x.shape[0],1)     \n",
    "    b=1\n",
    "    m=x.shape[1]\n",
    "    temp_cost=cost_function(x,y,w,b)\n",
    "    cost_values.append(temp_cost)\n",
    "    cost_change=1\n",
    "    while(cost_change>0.0001):         # Gradient Descent \n",
    "        z=np.dot(w.T,x)+b\n",
    "        dz=z-y\n",
    "        dw=1.0/m*np.dot(x,dz.T)\n",
    "        db=1.0/m*np.sum(dz)\n",
    "        w=w-alpha*dw\n",
    "        b=b-alpha*db\n",
    "        cost=cost_function(x,y,w,b)\n",
    "        cost_values.append(cost)\n",
    "        cost_change=np.absolute(temp_cost-cost)\n",
    "        temp_cost=cost\n",
    "\n",
    "    plt.plot(cost_values)     # plotting the cost function\n",
    "    plt.ylabel('cost function')\n",
    "    plt.xlabel('no. of iterations')\n",
    "    plt.show()\n",
    "    return w,b"
   ]
  },
  {
   "cell_type": "code",
   "execution_count": 5,
   "metadata": {},
   "outputs": [],
   "source": [
    "def prediction(x,w,b):        #This funtion will be used to predict on new data\n",
    "    z=np.dot(w.T,x)+b\n",
    "    return z"
   ]
  },
  {
   "cell_type": "code",
   "execution_count": 6,
   "metadata": {},
   "outputs": [],
   "source": [
    "def r_2(x,y):                 # This function calculate R-squared score\n",
    "    y_mean=y.mean()\n",
    "    tss=np.sum((y-y_mean)**2,axis=1)\n",
    "    w=predicted_w\n",
    "    b=predicted_b\n",
    "    z=np.dot(w.T,x)+b\n",
    "    rss=np.sum(np.power((z-y),2),axis=1)\n",
    "    r_squared=1-(rss/tss)\n",
    "    return r_squared"
   ]
  },
  {
   "cell_type": "code",
   "execution_count": 7,
   "metadata": {},
   "outputs": [
    {
     "data": {
      "image/png": "[encoded data removed]",
      "text/plain": [
       "<Figure size 432x288 with 1 Axes>"
      ]
     },
     "metadata": {},
     "output_type": "display_data"
    },
    {
     "name": "stdout",
     "output_type": "stream",
     "text": [
      "('weights :', array([[ 0.6016387 ],\n",
      "       [-0.06003197],\n",
      "       [ 0.29468158],\n",
      "       [ 0.90312506],\n",
      "       [ 0.14425203],\n",
      "       [ 0.68030725],\n",
      "       [ 0.28532257],\n",
      "       [ 0.43913594],\n",
      "       [ 0.5083758 ],\n",
      "       [ 0.55655593],\n",
      "       [ 0.5018649 ]]))\n",
      "('bias :', 5.666259130470995)\n",
      "('mean squared error for train data :', 0.8403054320745649)\n",
      "('mean squared error for test data :', 0.11698625842491991)\n",
      "('R squared on training :', -0.015119167324457727)\n",
      "('R squared on test', -0.08162731307047899)\n"
     ]
    }
   ],
   "source": [
    "# Normalizing the data , dividing into train and test\n",
    "train=pd.read_csv(\"winequality-white.csv\",delimiter=\";\")\n",
    "m=train.shape[0]\n",
    "y=train.quality\n",
    "x=train.drop([\"quality\"],axis=1)\n",
    "x_range=x.max()-x.min()\n",
    "x=(x-x.mean())/x_range\n",
    "x_train=x.iloc[0:4000]\n",
    "x_train=x_train.T.values\n",
    "y_train=y.iloc[0:4000]\n",
    "y_train=y_train.values.reshape(4000,1)\n",
    "y_train=y_train.T\n",
    "x_test=x.iloc[4000:]\n",
    "x_test=x_test.T.values\n",
    "y_test=y.iloc[4000:]\n",
    "y_test=y_test.values.reshape(898,1)\n",
    "y_test=y_test.T\n",
    "\n",
    "predicted_w,predicted_b=linear_regression(x_train,y_train,alpha=0.001) # weights and bias is calculated \n",
    "print(\"weights :\",predicted_w)\n",
    "print(\"bias :\",predicted_b)\n",
    "\n",
    "print(\"mean squared error for train data :\",cost_function(x_train,y_train,predicted_w,predicted_b)[0])\n",
    "\n",
    "y_pred=prediction(x_test,predicted_w,predicted_b)\n",
    "\n",
    "print(\"mean squared error for test data :\",1.0/m*np.sum(np.power(y_pred-y_test,2),axis=1)[0])\n",
    "\n",
    "print(\"R squared on training :\",r_2(x_train,y_train)[0])\n",
    "print(\"R squared on test\" ,r_2(x_test,y_test)[0])"
   ]
  }
 ],
 "metadata": {
  "kernelspec": {
   "display_name": "Python 2",
   "language": "python",
   "name": "python2"
  },
  "language_info": {
   "codemirror_mode": {
    "name": "ipython",
    "version": 2
   },
   "file_extension": ".py",
   "mimetype": "text/x-python",
   "name": "python",
   "nbconvert_exporter": "python",
   "pygments_lexer": "ipython2",
   "version": "2.7.14"
  }
 },
 "nbformat": 4,
 "nbformat_minor": 2
}
